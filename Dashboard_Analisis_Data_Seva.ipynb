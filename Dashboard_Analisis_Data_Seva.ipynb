{
  "cells": [
    {
      "cell_type": "code",
      "execution_count": 69,
      "metadata": {
        "colab": {
          "base_uri": "https://localhost:8080/"
        },
        "id": "10fulXvT9hEG",
        "outputId": "85355da4-b5cd-406f-be00-6213fa4c038b"
      },
      "outputs": [
        {
          "output_type": "stream",
          "name": "stdout",
          "text": [
            "Requirement already satisfied: streamlit in /usr/local/lib/python3.10/dist-packages (1.32.0)\n",
            "Requirement already satisfied: altair<6,>=4.0 in /usr/local/lib/python3.10/dist-packages (from streamlit) (4.2.2)\n",
            "Requirement already satisfied: blinker<2,>=1.0.0 in /usr/lib/python3/dist-packages (from streamlit) (1.4)\n",
            "Requirement already satisfied: cachetools<6,>=4.0 in /usr/local/lib/python3.10/dist-packages (from streamlit) (5.3.3)\n",
            "Requirement already satisfied: click<9,>=7.0 in /usr/local/lib/python3.10/dist-packages (from streamlit) (8.1.7)\n",
            "Requirement already satisfied: numpy<2,>=1.19.3 in /usr/local/lib/python3.10/dist-packages (from streamlit) (1.25.2)\n",
            "Requirement already satisfied: packaging<24,>=16.8 in /usr/local/lib/python3.10/dist-packages (from streamlit) (23.2)\n",
            "Requirement already satisfied: pandas<3,>=1.3.0 in /usr/local/lib/python3.10/dist-packages (from streamlit) (1.5.3)\n",
            "Requirement already satisfied: pillow<11,>=7.1.0 in /usr/local/lib/python3.10/dist-packages (from streamlit) (9.4.0)\n",
            "Requirement already satisfied: protobuf<5,>=3.20 in /usr/local/lib/python3.10/dist-packages (from streamlit) (3.20.3)\n",
            "Requirement already satisfied: pyarrow>=7.0 in /usr/local/lib/python3.10/dist-packages (from streamlit) (14.0.2)\n",
            "Requirement already satisfied: requests<3,>=2.27 in /usr/local/lib/python3.10/dist-packages (from streamlit) (2.31.0)\n",
            "Requirement already satisfied: rich<14,>=10.14.0 in /usr/local/lib/python3.10/dist-packages (from streamlit) (13.7.1)\n",
            "Requirement already satisfied: tenacity<9,>=8.1.0 in /usr/local/lib/python3.10/dist-packages (from streamlit) (8.2.3)\n",
            "Requirement already satisfied: toml<2,>=0.10.1 in /usr/local/lib/python3.10/dist-packages (from streamlit) (0.10.2)\n",
            "Requirement already satisfied: typing-extensions<5,>=4.3.0 in /usr/local/lib/python3.10/dist-packages (from streamlit) (4.10.0)\n",
            "Requirement already satisfied: gitpython!=3.1.19,<4,>=3.0.7 in /usr/local/lib/python3.10/dist-packages (from streamlit) (3.1.42)\n",
            "Requirement already satisfied: pydeck<1,>=0.8.0b4 in /usr/local/lib/python3.10/dist-packages (from streamlit) (0.8.1b0)\n",
            "Requirement already satisfied: tornado<7,>=6.0.3 in /usr/local/lib/python3.10/dist-packages (from streamlit) (6.3.3)\n",
            "Requirement already satisfied: watchdog>=2.1.5 in /usr/local/lib/python3.10/dist-packages (from streamlit) (4.0.0)\n",
            "Requirement already satisfied: entrypoints in /usr/local/lib/python3.10/dist-packages (from altair<6,>=4.0->streamlit) (0.4)\n",
            "Requirement already satisfied: jinja2 in /usr/local/lib/python3.10/dist-packages (from altair<6,>=4.0->streamlit) (3.1.3)\n",
            "Requirement already satisfied: jsonschema>=3.0 in /usr/local/lib/python3.10/dist-packages (from altair<6,>=4.0->streamlit) (4.19.2)\n",
            "Requirement already satisfied: toolz in /usr/local/lib/python3.10/dist-packages (from altair<6,>=4.0->streamlit) (0.12.1)\n",
            "Requirement already satisfied: gitdb<5,>=4.0.1 in /usr/local/lib/python3.10/dist-packages (from gitpython!=3.1.19,<4,>=3.0.7->streamlit) (4.0.11)\n",
            "Requirement already satisfied: python-dateutil>=2.8.1 in /usr/local/lib/python3.10/dist-packages (from pandas<3,>=1.3.0->streamlit) (2.8.2)\n",
            "Requirement already satisfied: pytz>=2020.1 in /usr/local/lib/python3.10/dist-packages (from pandas<3,>=1.3.0->streamlit) (2023.4)\n",
            "Requirement already satisfied: charset-normalizer<4,>=2 in /usr/local/lib/python3.10/dist-packages (from requests<3,>=2.27->streamlit) (3.3.2)\n",
            "Requirement already satisfied: idna<4,>=2.5 in /usr/local/lib/python3.10/dist-packages (from requests<3,>=2.27->streamlit) (3.6)\n",
            "Requirement already satisfied: urllib3<3,>=1.21.1 in /usr/local/lib/python3.10/dist-packages (from requests<3,>=2.27->streamlit) (2.0.7)\n",
            "Requirement already satisfied: certifi>=2017.4.17 in /usr/local/lib/python3.10/dist-packages (from requests<3,>=2.27->streamlit) (2024.2.2)\n",
            "Requirement already satisfied: markdown-it-py>=2.2.0 in /usr/local/lib/python3.10/dist-packages (from rich<14,>=10.14.0->streamlit) (3.0.0)\n",
            "Requirement already satisfied: pygments<3.0.0,>=2.13.0 in /usr/local/lib/python3.10/dist-packages (from rich<14,>=10.14.0->streamlit) (2.16.1)\n",
            "Requirement already satisfied: smmap<6,>=3.0.1 in /usr/local/lib/python3.10/dist-packages (from gitdb<5,>=4.0.1->gitpython!=3.1.19,<4,>=3.0.7->streamlit) (5.0.1)\n",
            "Requirement already satisfied: MarkupSafe>=2.0 in /usr/local/lib/python3.10/dist-packages (from jinja2->altair<6,>=4.0->streamlit) (2.1.5)\n",
            "Requirement already satisfied: attrs>=22.2.0 in /usr/local/lib/python3.10/dist-packages (from jsonschema>=3.0->altair<6,>=4.0->streamlit) (23.2.0)\n",
            "Requirement already satisfied: jsonschema-specifications>=2023.03.6 in /usr/local/lib/python3.10/dist-packages (from jsonschema>=3.0->altair<6,>=4.0->streamlit) (2023.12.1)\n",
            "Requirement already satisfied: referencing>=0.28.4 in /usr/local/lib/python3.10/dist-packages (from jsonschema>=3.0->altair<6,>=4.0->streamlit) (0.33.0)\n",
            "Requirement already satisfied: rpds-py>=0.7.1 in /usr/local/lib/python3.10/dist-packages (from jsonschema>=3.0->altair<6,>=4.0->streamlit) (0.18.0)\n",
            "Requirement already satisfied: mdurl~=0.1 in /usr/local/lib/python3.10/dist-packages (from markdown-it-py>=2.2.0->rich<14,>=10.14.0->streamlit) (0.1.2)\n",
            "Requirement already satisfied: six>=1.5 in /usr/local/lib/python3.10/dist-packages (from python-dateutil>=2.8.1->pandas<3,>=1.3.0->streamlit) (1.16.0)\n"
          ]
        }
      ],
      "source": [
        "!pip install streamlit"
      ]
    },
    {
      "cell_type": "code",
      "execution_count": 78,
      "metadata": {
        "colab": {
          "base_uri": "https://localhost:8080/"
        },
        "id": "kZH0Y27OAZJ6",
        "outputId": "9013351c-0fc8-44a5-aae3-4393b82b6ac1"
      },
      "outputs": [
        {
          "output_type": "stream",
          "name": "stdout",
          "text": [
            "Overwriting app.py\n"
          ]
        }
      ],
      "source": [
        "%%writefile app.py\n",
        "import streamlit as st\n",
        "import pandas as pd\n",
        "import matplotlib.pyplot as plt\n",
        "\n",
        "# Load data\n",
        "data_order_reviews = pd.read_csv(\"data_order_reviews_bersih.csv\")\n",
        "data_geolocation = pd.read_csv(\"data_geolocation_bersih.csv\")\n",
        "product_name = pd.read_csv(\"product_name_df.csv\")\n",
        "\n",
        "# Main content\n",
        "st.title(\"Dashboard E-Commerce\")\n",
        "\n",
        "# Visualisasi Produk Terlaris\n",
        "st.write(\"## Produk Terlaris\")\n",
        "max_products = product_name[\"product_category_name\"].value_counts().head(5)\n",
        "max_products_df = pd.DataFrame({\n",
        "    'Nama Produk': max_products.index,\n",
        "    'Total': max_products.values\n",
        "})\n",
        "st.write(max_products_df)\n",
        "\n",
        "plt.figure(figsize=(10, 6))\n",
        "top_product = max_products.idxmax()\n",
        "max_products_sorted = max_products.sort_values()\n",
        "max_products_sorted.plot(kind='barh', color=['skyblue' if prod != top_product else 'navy' for prod in max_products_sorted.index])\n",
        "for i, val in enumerate(max_products_sorted.values):\n",
        "    plt.text(val, i, f'{int(val)}', ha='left', va='center')\n",
        "plt.title('Produk Terlaris')\n",
        "plt.xlabel('Jumlah Pembelian')\n",
        "plt.ylabel('Nama Produk')\n",
        "plt.tight_layout()\n",
        "st.pyplot(plt)\n",
        "\n",
        "# Visualisasi Produk Paling tidak Laris\n",
        "st.write(\"## Produk Paling tidak Laris\")\n",
        "min_products = product_name[\"product_category_name\"].value_counts().tail(5)\n",
        "min_products_df = pd.DataFrame({\n",
        "    'Nama Produk': min_products.index,\n",
        "    'Total': min_products.values\n",
        "})\n",
        "st.write(min_products_df)\n",
        "\n",
        "plt.figure(figsize=(10, 6))\n",
        "top_product = min_products.idxmin()\n",
        "min_products.plot(kind='barh', color=['navy' if prod == top_product else 'skyblue' for prod in min_products.index])\n",
        "for i, val in enumerate(min_products.values):\n",
        "    plt.text(val, i, f'{int(val)}', ha='left', va='center')\n",
        "plt.title('Produk Paling tidak Laris')\n",
        "plt.xlabel('Jumlah Pembelian')\n",
        "plt.ylabel('Nama Produk')\n",
        "plt.tight_layout()\n",
        "st.pyplot(plt)\n",
        "\n",
        "# Visualisasi Histogram Skor Ulasan\n",
        "st.write(\"## Histogram Skor Ulasan\")\n",
        "plt.figure(figsize=(10, 8))\n",
        "plt.hist(data_order_reviews['review_score'], bins=5, color='skyblue', edgecolor='black')\n",
        "plt.title('Histogram Skor Ulasan', fontsize=16, fontweight='bold')\n",
        "plt.xlabel('Skor Ulasan', fontsize=12)\n",
        "plt.ylabel('Jumlah Ulasan', fontsize=12)\n",
        "plt.grid(axis='y', linestyle='--', alpha=0.7)\n",
        "plt.gca().spines['top'].set_visible(False)\n",
        "plt.gca().spines['right'].set_visible(False)\n",
        "st.pyplot(plt)\n",
        "\n",
        "# Visualisasi Jumlah Pembeli per Kota\n",
        "st.write(\"## Jumlah Pembeli per Kota\")\n",
        "jumlah_pembeli_per_state = data_geolocation['geolocation_state'].value_counts()\n",
        "st.write(jumlah_pembeli_per_state)\n",
        "\n",
        "plt.figure(figsize=(12, 8))\n",
        "jumlah_pembeli_per_state.plot(kind='bar', color='skyblue')\n",
        "plt.title('Jumlah Pembeli per Kota', fontsize=16, fontweight='bold')\n",
        "plt.xlabel('Kota', fontsize=12)\n",
        "plt.ylabel('Jumlah Pembeli', fontsize=12)\n",
        "plt.xticks(rotation=45, ha='right', fontsize=10)\n",
        "plt.grid(axis='y', linestyle='--', alpha=0.7)\n",
        "plt.gca().spines['top'].set_visible(False)\n",
        "plt.gca().spines['right'].set_visible(False)\n",
        "plt.tight_layout()\n",
        "st.pyplot(plt)\n",
        "\n",
        "# Visualisasi Top 10 Kota dengan Jumlah Pembeli Tertinggi\n",
        "st.write(\"## Top 10 Kota dengan Jumlah Pembeli Tertinggi\")\n",
        "jumlah_pembeli_per_state = data_geolocation['geolocation_state'].value_counts()\n",
        "top_10_states = jumlah_pembeli_per_state.head(10)\n",
        "st.write(top_10_states)\n",
        "\n",
        "plt.figure(figsize=(12, 8))\n",
        "top_10_states.plot(kind='bar', color='skyblue')\n",
        "plt.title('Top 10 Kota dengan Jumlah Pembeli Tertinggi', fontsize=16, fontweight='bold')\n",
        "plt.xlabel('Kota', fontsize=12)\n",
        "plt.ylabel('Jumlah Pembeli', fontsize=12)\n",
        "plt.xticks(rotation=45, ha='right', fontsize=10)\n",
        "plt.grid(axis='y', linestyle='--', alpha=0.7)\n",
        "plt.gca().spines['top'].set_visible(False)\n",
        "plt.gca().spines['right'].set_visible(False)\n",
        "plt.tight_layout()\n",
        "st.pyplot(plt)\n",
        "\n",
        "# Visualisasi Proporsi Jumlah Pembeli per Kota (Top 10)\n",
        "st.write(\"## Proporsi Jumlah Pembeli per Kota (Top 10)\")\n",
        "jumlah_pembeli_per_state = data_geolocation['geolocation_state'].value_counts()\n",
        "top_10_states = jumlah_pembeli_per_state.head(10)\n",
        "st.write(top_10_states)\n",
        "\n",
        "plt.figure(figsize=(8, 8))\n",
        "plt.pie(top_10_states, labels=top_10_states.index, autopct='%1.1f%%', colors=plt.cm.tab20.colors)\n",
        "plt.title('Proporsi Jumlah Pembeli per Kota (Top 10)', fontsize=16, fontweight='bold')\n",
        "plt.axis('equal')\n",
        "st.pyplot(plt)\n",
        "\n",
        "with st.sidebar:\n",
        "    # Menambahkan logo perusahaan\n",
        "    st.image(\"logo_ecommerce.jpg\")\n",
        "\n",
        "# Kesimpulan\n",
        "st.write(\"## Kesimpulan\")\n",
        "st.write(\"Berdasarkan data penjualan yang diberikan, dapat disimpulkan bahwa:\")\n",
        "st.write(\"1. Produk yang paling laris adalah 'cama_mesa_banho' dengan total penjualan sebanyak 3029 barang. Sementara itu, produk yang memiliki tingkat penjualan paling rendah adalah 'utilidades_domesticas' dengan total penjualan sebanyak 2335 barang.\")\n",
        "st.write(\"2. Tingkat kepuasan pelanggan terhadap layanan dan produk yang ditawarkan dapat dilihat dari data histogram skor ulasan. Lebih dari 5000 pelanggan memberikan rating tinggi, berkisar antara 4.5 hingga 5.\")\n",
        "st.write(\"3. Pada plot bar untuk jumlah pembeli per kota, dapat diamati bahwa Sao Paulo merupakan kota dengan tingkat pembelian tertinggi, mencapai jumlah sebesar 400.000 pembeli. Di sisi lain, kota Roraima menunjukkan tingkat pembelian terendah, hanya dengan 646 pembeli. Analisis ini menyoroti pola distribusi pembelian yang beragam di antara berbagai kota, dengan Sao Paulo menonjol sebagai pusat pembelian utama.\")"
      ]
    },
    {
      "cell_type": "code",
      "execution_count": 79,
      "metadata": {
        "colab": {
          "base_uri": "https://localhost:8080/"
        },
        "id": "xDN53-KeAdjQ",
        "outputId": "e40d78c6-edfc-4090-9d82-44e99206e306"
      },
      "outputs": [
        {
          "output_type": "stream",
          "name": "stdout",
          "text": [
            "\n",
            "Collecting usage statistics. To deactivate, set browser.gatherUsageStats to False.\n",
            "\u001b[0m\n",
            "\u001b[0m\n",
            "\u001b[34m\u001b[1m  You can now view your Streamlit app in your browser.\u001b[0m\n",
            "\u001b[0m\n",
            "\u001b[34m  Network URL: \u001b[0m\u001b[1mhttp://172.28.0.12:8501\u001b[0m\n",
            "\u001b[34m  External URL: \u001b[0m\u001b[1mhttp://34.82.5.98:8501\u001b[0m\n",
            "\u001b[0m\n",
            "\u001b[K\u001b[?25hnpx: installed 22 in 2.345s\n",
            "your url is: https://puny-rabbits-mate.loca.lt\n",
            "\u001b[34m  Stopping...\u001b[0m\n",
            "^C\n"
          ]
        }
      ],
      "source": [
        "!streamlit run app.py & npx localtunnel --port 8501"
      ]
    }
  ],
  "metadata": {
    "colab": {
      "provenance": []
    },
    "kernelspec": {
      "display_name": "Python 3",
      "name": "python3"
    },
    "language_info": {
      "name": "python"
    }
  },
  "nbformat": 4,
  "nbformat_minor": 0
}